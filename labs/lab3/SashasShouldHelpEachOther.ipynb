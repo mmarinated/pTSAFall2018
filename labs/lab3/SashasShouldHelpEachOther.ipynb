{
 "cells": [
  {
   "cell_type": "code",
   "execution_count": 128,
   "metadata": {},
   "outputs": [],
   "source": [
    "#changed signature of function to a more comfortable one\n",
    "#takes numbers and answers (does not take list_of_operators)\n",
    "#and returns list in case of success or nothing otherwise\n",
    "def solve_arithmetic(list_of_numbers, answer, list_of_operators=list()):\n",
    "    \n",
    "    # you may use this one for debug (uncomment)\n",
    "    #  print(list_of_operators, list_of_numbers)\n",
    "    \n",
    "    \n",
    "    # exit from recursion\n",
    "    if len(list_of_numbers) == 1:\n",
    "        if list_of_numbers[0] == answer:\n",
    "            return list_of_operators\n",
    "        else:\n",
    "            return False\n",
    "    \n",
    "    # remove ** for submission, just an example that it is powerful\n",
    "    for operator in ['/', '+', '-', '*', '**']:\n",
    "        # this one checks we divide in integers as required\n",
    "        if operator == '/' and list_of_numbers[0] % list_of_numbers[1] != 0:\n",
    "            continue\n",
    "        \n",
    "        # a fancy way not to write many ifs, read eval() function doc\n",
    "        first_number = eval(('%i '+ operator + ' %i') \n",
    "                            % (list_of_numbers[0], list_of_numbers[1]))\n",
    "        \n",
    "        new_list_of_numbers = [first_number] + list_of_numbers[2:]\n",
    "        new_list_of_operators = list_of_operators + [operator]\n",
    "        \n",
    "        #optional can be either list_of_operators or False\n",
    "        optional = solve_arithmetic(new_list_of_numbers, answer, new_list_of_operators)\n",
    "        if optional:\n",
    "            return optional"
   ]
  },
  {
   "cell_type": "code",
   "execution_count": 130,
   "metadata": {},
   "outputs": [],
   "source": [
    "solve_arithmetic([2, 2], 5)"
   ]
  },
  {
   "cell_type": "code",
   "execution_count": 131,
   "metadata": {},
   "outputs": [
    {
     "data": {
      "text/plain": [
       "['**']"
      ]
     },
     "execution_count": 131,
     "metadata": {},
     "output_type": "execute_result"
    }
   ],
   "source": [
    "solve_arithmetic([3, 3], 27)"
   ]
  },
  {
   "cell_type": "code",
   "execution_count": 132,
   "metadata": {},
   "outputs": [],
   "source": [
    "solve_arithmetic([5, 2], 1)"
   ]
  },
  {
   "cell_type": "code",
   "execution_count": 133,
   "metadata": {
    "scrolled": true
   },
   "outputs": [
    {
     "data": {
      "text/plain": [
       "['*', '*', '/']"
      ]
     },
     "execution_count": 133,
     "metadata": {},
     "output_type": "execute_result"
    }
   ],
   "source": [
    "solve_arithmetic([2, 3, 5, 1], 30)"
   ]
  },
  {
   "cell_type": "code",
   "execution_count": 134,
   "metadata": {},
   "outputs": [
    {
     "data": {
      "text/plain": [
       "['*', '-']"
      ]
     },
     "execution_count": 134,
     "metadata": {},
     "output_type": "execute_result"
    }
   ],
   "source": [
    "solve_arithmetic([2, 4, 2], 6)"
   ]
  },
  {
   "cell_type": "code",
   "execution_count": 96,
   "metadata": {},
   "outputs": [
    {
     "data": {
      "text/plain": [
       "['+', '*', '*', '+', '+', '/']"
      ]
     },
     "execution_count": 96,
     "metadata": {},
     "output_type": "execute_result"
    }
   ],
   "source": [
    "solve_arithmetic([7] * 7, 100)"
   ]
  },
  {
   "cell_type": "code",
   "execution_count": null,
   "metadata": {},
   "outputs": [],
   "source": []
  }
 ],
 "metadata": {
  "kernelspec": {
   "display_name": "Python 3",
   "language": "python",
   "name": "python3"
  },
  "language_info": {
   "codemirror_mode": {
    "name": "ipython",
    "version": 3
   },
   "file_extension": ".py",
   "mimetype": "text/x-python",
   "name": "python",
   "nbconvert_exporter": "python",
   "pygments_lexer": "ipython3",
   "version": "3.7.0"
  }
 },
 "nbformat": 4,
 "nbformat_minor": 2
}
