{
 "cells": [
  {
   "cell_type": "markdown",
   "metadata": {},
   "source": [
    "# Probabilistic Time Series Analysis\n",
    "\n",
    "## Week 5: Hidden Markov Models"
   ]
  },
  {
   "cell_type": "markdown",
   "metadata": {},
   "source": [
    "---"
   ]
  },
  {
   "cell_type": "markdown",
   "metadata": {},
   "source": [
    "You will need the following new Python package. Install it either with `conda install -c conda-forge` if you use the Anaconda environment or `pip install`.\n",
    "\n",
    "    hmmlearn"
   ]
  },
  {
   "cell_type": "markdown",
   "metadata": {},
   "source": [
    "Places where you are supposed to fill in code are marked\n",
    "\n",
    "    #\n",
    "    # TODO: some instructions\n",
    "    # \n",
    "    \n",
    "The rest of the code we will run and discuss if time permits, otherwise try it out at home and try to answer the questions mentioned in the text boxes for yourself."
   ]
  },
  {
   "cell_type": "markdown",
   "metadata": {},
   "source": [
    "### Please turn in the code before 10/10/2018 5:20pm. \n",
    "\n",
    "### Your work will be evaluated based on the code and plots. You don't need to write down your answers to other questions in the text blocks, just think them over.\n",
    "\n",
    "### Title your submission file `lab5-student-[YOUR NET ID].ipynb`."
   ]
  },
  {
   "cell_type": "markdown",
   "metadata": {},
   "source": [
    "---"
   ]
  },
  {
   "cell_type": "markdown",
   "metadata": {},
   "source": [
    "## Setup"
   ]
  },
  {
   "cell_type": "code",
   "execution_count": null,
   "metadata": {
    "collapsed": false
   },
   "outputs": [],
   "source": [
    "import numpy as np\n",
    "import matplotlib.pyplot as plt\n",
    "import pandas as pd\n",
    "import math\n",
    "import random\n",
    "import pylab\n",
    "from collections import Counter\n",
    "from hmmlearn import hmm\n",
    "import time"
   ]
  },
  {
   "cell_type": "markdown",
   "metadata": {},
   "source": [
    "## Part I: Data Loading\n",
    "\n",
    "Load the Wall Street Journal POS dataset. Transform them into indices. "
   ]
  },
  {
   "cell_type": "code",
   "execution_count": null,
   "metadata": {
    "collapsed": true
   },
   "outputs": [],
   "source": [
    "train_dir = \"../../data/en-wsj-train.pos\"\n",
    "test_dir = \"../../data/en-wsj-dev.pos\"\n",
    "\n",
    "def load_pos_data(data_dir, word_indexer=None, label_indexer=None, top_k=20000):\n",
    "    \"\"\"\n",
    "    Function that loads the data\n",
    "    \"\"\"\n",
    "    with open(data_dir, \"r\") as f:\n",
    "        # load data\n",
    "        content = f.readlines()\n",
    "        intermediate_X = []\n",
    "        intermediate_z = []\n",
    "        current_X = []\n",
    "        current_z = []\n",
    "        vocab_counter = Counter()\n",
    "        label_set = set()\n",
    "        for line in content:\n",
    "            tokens = line.replace(\"\\n\", \"\").replace(\"$\", \"\").split(\"\\t\")\n",
    "            if len(tokens) <= 1:\n",
    "                intermediate_X.append(current_X)\n",
    "                intermediate_z.append(current_z)\n",
    "                current_X = []\n",
    "                current_z = []\n",
    "            elif len(tokens[1]) > 0:\n",
    "                vocab_counter[tokens[0]]+=1\n",
    "                label_set.add(tokens[1])\n",
    "                current_X.append(tokens[0].lower())\n",
    "                current_z.append(tokens[1])\n",
    "        # index data\n",
    "        top_k_words = vocab_counter.most_common(top_k)\n",
    "        # 0 is reserved for unknown words\n",
    "        word_indexer = word_indexer if word_indexer is not None else dict([(top_k_words[i][0], i+1) for i in range(len(top_k_words))])\n",
    "        word_indexer[\"UNK\"] = 0 \n",
    "        label_indexer = label_indexer if label_indexer is not None else dict([(label, i) for i, label in enumerate(label_set)])\n",
    "        output_X = []\n",
    "        output_z = []\n",
    "        current_X = []\n",
    "        current_z = []\n",
    "        for i in range(len(intermediate_X)):\n",
    "            for j in range(len(intermediate_X[i])):\n",
    "                if intermediate_X[i][j] in word_indexer:\n",
    "                    current_X.append(word_indexer[intermediate_X[i][j]])\n",
    "                else:\n",
    "                    current_X.append(0)\n",
    "                current_z.append(label_indexer[intermediate_z[i][j]])\n",
    "            # populate holders\n",
    "            output_X.append(current_X)\n",
    "            output_z.append(current_z)\n",
    "            # reset current holder\n",
    "            current_X = []\n",
    "            current_z = []\n",
    "        return output_X, output_z, label_indexer, word_indexer, {v: k for k, v in label_indexer.items()}, {v: k for k, v in word_indexer.items()}"
   ]
  },
  {
   "cell_type": "code",
   "execution_count": null,
   "metadata": {
    "collapsed": true
   },
   "outputs": [],
   "source": [
    "train_X, train_z, label_indexer, word_indexer, label_lookup, vocab_lookup = load_pos_data(train_dir)\n",
    "test_X, test_z, _, _, _, _ = load_pos_data(test_dir, word_indexer=word_indexer, label_indexer=label_indexer)"
   ]
  },
  {
   "cell_type": "markdown",
   "metadata": {},
   "source": [
    "## Part II: HMM Implementation\n",
    "\n",
    "In this part, you will implement the Hidden Markov Model with following methods:\n",
    "\n",
    "\n",
    "- sample: given a initial state and the number of steps, returns a sequence of sampled states and observations.\n",
    "\n",
    "\n",
    "- fit: update the transition matrix, emission matrix, and the initial state probability. Note that in our case, the hidden states are given. We don't need to use EM for the learning. Just count the number of times that given transitions / emissions / initial states appear, and normalize those counts to fill in the parameters.\n",
    "\n",
    "\n",
    "- decode_single_chain: use the Viterbi Algorithm to find the most probable sequence of states."
   ]
  },
  {
   "cell_type": "code",
   "execution_count": null,
   "metadata": {
    "collapsed": true
   },
   "outputs": [],
   "source": [
    "def reconstruct_sequence(idx_list, lookup):\n",
    "    \"\"\"\n",
    "    Function that reconstructs a sequence of index\n",
    "    \"\"\"\n",
    "    return [lookup[x] for x in idx_list]\n",
    "\n",
    "def percentage_agree(x, y):\n",
    "    \"\"\"\n",
    "    Function that shows the % of agreement among two list\n",
    "    \"\"\"\n",
    "    assert len(x)==len(y)\n",
    "    return float(np.sum(np.array(x)==np.array(y)))/len(x)\n",
    "\n",
    "class MyHMM:\n",
    "    def __init__(self, num_unique_states, num_observations):\n",
    "        \"\"\"\n",
    "        Constructor\n",
    "        @param num_unique_states: # of unique states (POS Tags)\n",
    "        @param num_observations: # of unique observations (words)\n",
    "        \"\"\"\n",
    "        self.num_unique_states = num_unique_states\n",
    "        self.num_observations = num_observations\n",
    "        self.transition_matrix = np.zeros((num_unique_states, num_unique_states))\n",
    "        self.emission_matrix = np.zeros((num_unique_states, num_observations))\n",
    "        self.initial_states_vector = np.zeros(num_unique_states)\n",
    "    \n",
    "    def fit(self, X, z):\n",
    "        \"\"\"\n",
    "        Method that fits the model.\n",
    "        @param X: array-like with dimension [# of examples, # of length]\n",
    "        @param z: array-like with dimension [# of examples, # of length]\n",
    "        \"\"\"\n",
    "        #\n",
    "        # TODO: Add your implementation here\n",
    "        #\n",
    "        return None\n",
    "    \n",
    "    def decode_single_chain(self, x):\n",
    "        \"\"\"\n",
    "        Auxiliary method that uses Viterbi on single chain\n",
    "        @param X: array-like with dimension [ # of length]\n",
    "        @return z: array-like with dimension [# of length]\n",
    "        \"\"\"\n",
    "        #\n",
    "        # TODO: Add your implementation here\n",
    "        #\n",
    "        z = []\n",
    "        return z\n",
    "        \n",
    "    def decode(self, X):\n",
    "        \"\"\"\n",
    "        Method that performs the Viterbi the model.\n",
    "        @param X: array-like with dimension [# of examples, # of length]\n",
    "        @return z: array-like with dimension [# of examples, # of length]\n",
    "        \"\"\"\n",
    "        return [self.decode_single_chain(sample) for sample in X]\n",
    "    \n",
    "    def sample(self, n_step, initial_state):\n",
    "        \"\"\"\n",
    "        Method that given initial state and produces n_step states and observations\n",
    "        @param n_step: integer\n",
    "        @param initial_state: an integer indicating the state\n",
    "        \"\"\"\n",
    "        #\n",
    "        # TODO: Add your implementation here\n",
    "        #\n",
    "        states = []  # aka z\n",
    "        observations = []  # aka x\n",
    "        return states, observations"
   ]
  },
  {
   "cell_type": "markdown",
   "metadata": {},
   "source": [
    "## Part III: Validation"
   ]
  },
  {
   "cell_type": "markdown",
   "metadata": {},
   "source": [
    "### Learn an HMM"
   ]
  },
  {
   "cell_type": "code",
   "execution_count": null,
   "metadata": {
    "collapsed": true
   },
   "outputs": [],
   "source": [
    "num_states = len(label_indexer)\n",
    "num_obs = len(word_indexer)\n",
    "my_hmm = MyHMM(num_states, num_obs)\n",
    "my_hmm.fit(train_X, train_z)"
   ]
  },
  {
   "cell_type": "markdown",
   "metadata": {},
   "source": [
    "### Decode"
   ]
  },
  {
   "cell_type": "code",
   "execution_count": null,
   "metadata": {
    "collapsed": false
   },
   "outputs": [],
   "source": [
    "i = 5\n",
    "res = my_hmm.decode_single_chain(test_X[i])\n",
    "print(\"data: {0} \\n pred: {1} \\n label: {2}\".format(reconstruct_sequence(test_X[i], vocab_lookup),\n",
    "                                                    reconstruct_sequence(res, label_lookup),\n",
    "                                                  reconstruct_sequence(test_z[i], label_lookup)))"
   ]
  },
  {
   "cell_type": "code",
   "execution_count": null,
   "metadata": {
    "collapsed": false
   },
   "outputs": [],
   "source": [
    "start_time = time.time()\n",
    "pred_train = my_hmm.decode(train_X[:1000])\n",
    "print(\"takes {0} seconds\".format(time.time() - start_time))"
   ]
  },
  {
   "cell_type": "code",
   "execution_count": null,
   "metadata": {
    "collapsed": false
   },
   "outputs": [],
   "source": [
    "start_time = time.time()\n",
    "pred_test = my_hmm.decode(test_X)\n",
    "print(\"takes {0} seconds\".format(time.time() - start_time))"
   ]
  },
  {
   "cell_type": "code",
   "execution_count": null,
   "metadata": {
    "collapsed": false
   },
   "outputs": [],
   "source": [
    "np.mean([percentage_agree(pred_train[i], train_z[i]) for i in range(len(pred_train))])"
   ]
  },
  {
   "cell_type": "code",
   "execution_count": null,
   "metadata": {
    "collapsed": false
   },
   "outputs": [],
   "source": [
    "np.mean([percentage_agree(pred_test[i], test_z[i]) for i in range(len(pred_test))])"
   ]
  },
  {
   "cell_type": "markdown",
   "metadata": {},
   "source": [
    "### Sample"
   ]
  },
  {
   "cell_type": "code",
   "execution_count": null,
   "metadata": {
    "collapsed": false
   },
   "outputs": [],
   "source": [
    "pos_tag, words = my_hmm.sample(10, label_indexer[\"NNP\"])\n",
    "print(reconstruct_sequence(pos_tag, label_lookup))\n",
    "print(reconstruct_sequence(words, vocab_lookup))"
   ]
  }
 ],
 "metadata": {
  "anaconda-cloud": {},
  "kernelspec": {
   "display_name": "Python 2",
   "language": "python",
   "name": "python2"
  },
  "language_info": {
   "codemirror_mode": {
    "name": "ipython",
    "version": 2
   },
   "file_extension": ".py",
   "mimetype": "text/x-python",
   "name": "python",
   "nbconvert_exporter": "python",
   "pygments_lexer": "ipython2",
   "version": "2.7.13"
  }
 },
 "nbformat": 4,
 "nbformat_minor": 1
}
