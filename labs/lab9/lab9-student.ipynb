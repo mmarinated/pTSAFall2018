{
 "cells": [
  {
   "cell_type": "markdown",
   "metadata": {},
   "source": [
    "# Probabilistic Time Series Analysis\n",
    "\n",
    "## Week 9: Introduction to Gaussian Processes"
   ]
  },
  {
   "cell_type": "markdown",
   "metadata": {},
   "source": [
    "You will need the following new Python package. Install it either with `conda install -c conda-forge` if you use the Anaconda environment or `pip install`.\n",
    "\n",
    "    GPy"
   ]
  },
  {
   "cell_type": "markdown",
   "metadata": {},
   "source": [
    "Places where you are supposed to fill in code are marked\n",
    "\n",
    "    #\n",
    "    # TODO: some instructions\n",
    "    # \n",
    "    \n",
    "The rest of the code we will run and discuss if time permits, otherwise try it out at home and try to answer the questions mentioned in the text boxes for yourself."
   ]
  },
  {
   "cell_type": "markdown",
   "metadata": {},
   "source": [
    "### Please turn in the code before 11/21/2018 5:20pm. \n",
    "\n",
    "### Your work will be evaluated based on the code and plots. You don't need to write down your answers to other questions in the text blocks, just think them over.\n",
    "\n",
    "### Title your submission file `lab9-student-[YOUR NET ID].ipynb`."
   ]
  },
  {
   "cell_type": "markdown",
   "metadata": {},
   "source": [
    "# Setup"
   ]
  },
  {
   "cell_type": "code",
   "execution_count": null,
   "metadata": {
    "collapsed": true
   },
   "outputs": [],
   "source": [
    "import numpy as np\n",
    "import GPy\n",
    "\n",
    "%matplotlib inline"
   ]
  },
  {
   "cell_type": "markdown",
   "metadata": {},
   "source": [
    "# I. Basic Example"
   ]
  },
  {
   "cell_type": "code",
   "execution_count": null,
   "metadata": {
    "collapsed": true
   },
   "outputs": [],
   "source": [
    "# NOTE: Read this function carefully! You will modify it in the following sections.\n",
    "\n",
    "def uniform_samples(x_min, x_max, n_samples, f, noise_scale):\n",
    "    \"\"\"Generates f(x) + noise for x uniformly distributed in [x_min, x_max].\"\"\"\n",
    "    X = np.random.uniform(x_min, x_max, size=(n_samples, 1))\n",
    "    Y = f(X) + np.random.normal(scale=noise_scale, size=(n_samples, 1))\n",
    "    return X, Y"
   ]
  },
  {
   "cell_type": "code",
   "execution_count": null,
   "metadata": {
    "collapsed": false
   },
   "outputs": [],
   "source": [
    "# Build sample points and values:\n",
    "X, Y = uniform_samples(-3.0, 3.0, 20, np.sin, 0.05)\n",
    "\n",
    "kernel = GPy.kern.RBF(input_dim=1, variance=1., lengthscale=1.)\n",
    "m = GPy.models.GPRegression(X, Y, kernel)\n",
    "# This step estimates maximum likelihood values for the kernel parameters:\n",
    "_ = m.optimize()\n",
    "\n",
    "_ = m.plot(plot_density=True, plot_limits=[-5.0, 5.0])\n",
    "_ = m.plot_samples(samples=10, plot_limits=[-5.0, 5.0])"
   ]
  },
  {
   "cell_type": "code",
   "execution_count": null,
   "metadata": {
    "collapsed": false
   },
   "outputs": [],
   "source": [
    "# NOTE: Now we'll draw data that's just on a line, but with more noise.\n",
    "X, Y = uniform_samples(-3.0, 3.0, 20, lambda x: x, 0.8)\n",
    "\n",
    "kernel = GPy.kern.RBF(input_dim=1, variance=1.0, lengthscale=1.0)\n",
    "m = GPy.models.GPRegression(X, Y, kernel)\n",
    "_ = m.optimize()\n",
    "\n",
    "_ = m.plot(plot_density=True, plot_limits=[-5.0, 5.0])\n",
    "_ = m.plot_samples(samples=10, plot_limits=[-5.0, 5.0])\n",
    "\n",
    "# NOTE: Run this a few times and see if you notice signs of overfitting."
   ]
  },
  {
   "cell_type": "markdown",
   "metadata": {},
   "source": [
    "# II. Gaps in Data Coverage"
   ]
  },
  {
   "cell_type": "code",
   "execution_count": null,
   "metadata": {
    "collapsed": true
   },
   "outputs": [],
   "source": [
    "#\n",
    "# TODO: Write a version of uniform_samples where there are no samples in the middle half\n",
    "# of the interval [x_min, x_max], i.e. in the subinterval [x_min + (x_max - x_min) / 4, \n",
    "# x_max - (x_max - x_min) / 4]. What happens to the estimates in this region?\n",
    "#\n",
    "\n",
    "def gapped_samples(x_min, x_max, n_samples, f, noise_scale):\n",
    "    pass"
   ]
  },
  {
   "cell_type": "code",
   "execution_count": null,
   "metadata": {
    "collapsed": false,
    "scrolled": true
   },
   "outputs": [],
   "source": [
    "# Make plots like in the previous section but replacing uniform_samples with gapped_samples. What changes?"
   ]
  },
  {
   "cell_type": "markdown",
   "metadata": {},
   "source": [
    "# III. Choice of Kernel"
   ]
  },
  {
   "cell_type": "code",
   "execution_count": null,
   "metadata": {
    "collapsed": true
   },
   "outputs": [],
   "source": [
    "# Build sample points and values:\n",
    "X, Y = uniform_samples(-10.0, 10.0, 100, np.sin, 0.5)"
   ]
  },
  {
   "cell_type": "code",
   "execution_count": null,
   "metadata": {
    "collapsed": true
   },
   "outputs": [],
   "source": [
    "#\n",
    "# TODO: Using the single set of example data above, try repeating the previous steps (one set of plots per cell)\n",
    "# with the following alternate kernels (read the documentation and use some sensible initial parameter settings):\n",
    "#\n",
    "# - GPy.kern.RBF (like before)   :   squared exponential\n",
    "# - GPy.kern.RatQuad             :   rational quadratic\n",
    "# - GPy.kern.Linear              :   linear\n",
    "# - GPy.kern.Brownian            :   covariance of Brownian motion\n",
    "# - GPy.kern.PeriodicExponential :   periodic\n",
    "#\n",
    "# To do this, edit the line `kernel = GPy.kern.SOMETHING(input_dim=1, ...)`\n",
    "#\n",
    "# For the last one, first try the parameter `period=6.0`, close to the actual period of our data, and then try\n",
    "# systematically decreasing this parameter until the model starts failing.\n",
    "\n",
    "# If you're interested, you can read more about these choices here:\n",
    "# https://www.cs.toronto.edu/~duvenaud/cookbook/\n",
    "#"
   ]
  },
  {
   "cell_type": "markdown",
   "metadata": {},
   "source": [
    "# IV. A Challenging Example\n",
    "\n",
    "Now we'll try to design a Gaussian process to model a difficult set of data. Don't worry about getting perfect results---it's hard!---but do your best."
   ]
  },
  {
   "cell_type": "code",
   "execution_count": null,
   "metadata": {
    "collapsed": true
   },
   "outputs": [],
   "source": [
    "def markov_jump_samples(x_min, x_max, n_samples, rate, step_scale, noise_scale):\n",
    "    jump_times = []\n",
    "    last_time = float(x_min)\n",
    "    while last_time <= x_max:\n",
    "        last_time += np.random.exponential(rate)\n",
    "        jump_times.append(last_time)\n",
    "    jump_times = np.array(jump_times)\n",
    "    process_values = np.arange(len(jump_times) + 1) * step_scale\n",
    "    process_values = process_values - np.mean(process_values)\n",
    "    \n",
    "    X = np.random.uniform(x_min, x_max, size=(n_samples, 1))\n",
    "    Y = np.zeros((n_samples, 1))\n",
    "    for i in range(n_samples):\n",
    "        x = X[i, 0]\n",
    "        ix = np.searchsorted(jump_times, x)\n",
    "        Y[i, 0] = process_values[ix] + np.random.normal(scale=noise_scale)\n",
    "        \n",
    "    return X, Y\n",
    "\n",
    "# NOTE: Take a look at this function and try to understand what it's doing. When you think you know, make sure\n",
    "# this is consistent with the plots below."
   ]
  },
  {
   "cell_type": "code",
   "execution_count": null,
   "metadata": {
    "collapsed": false
   },
   "outputs": [],
   "source": [
    "# Seed to give a deterministic example:\n",
    "np.random.seed(7)\n",
    "X, Y = markov_jump_samples(-40.0, 40.0, 100, 10.0, 10.0, 0.05)"
   ]
  },
  {
   "cell_type": "code",
   "execution_count": null,
   "metadata": {
    "collapsed": false
   },
   "outputs": [],
   "source": [
    "kernel = GPy.kern.RBF(input_dim=1, variance=1., lengthscale=1.)\n",
    "m = GPy.models.GPRegression(X, Y, kernel)\n",
    "_ = m.optimize()\n",
    "_ = m.plot(plot_density=True)"
   ]
  },
  {
   "cell_type": "code",
   "execution_count": null,
   "metadata": {
    "collapsed": true
   },
   "outputs": [],
   "source": [
    "#\n",
    "# TODO: Notice two bad phenomena in the above result:\n",
    "#   1. The mean of the fit is not as \"sharp\" as the generated data at the stepping points.\n",
    "#   2. In long flat regions like between -20 and 0, there is \"ringing\" where the mean fluctuates while the data is flat.\n",
    "# Try to find a choice of kernel that improves on the RBF in this case. Present the results of at least two other\n",
    "# kernel choices from GPy.\n",
    "# "
   ]
  },
  {
   "cell_type": "markdown",
   "metadata": {},
   "source": [
    "# References\n",
    "\n",
    "The beginning of this notebook is based on:\n",
    "\n",
    "https://github.com/savinlab/gp_intro/blob/master/gp_regression_basic.ipynb"
   ]
  }
 ],
 "metadata": {
  "kernelspec": {
   "display_name": "Python 2",
   "language": "python",
   "name": "python2"
  },
  "language_info": {
   "codemirror_mode": {
    "name": "ipython",
    "version": 2
   },
   "file_extension": ".py",
   "mimetype": "text/x-python",
   "name": "python",
   "nbconvert_exporter": "python",
   "pygments_lexer": "ipython2",
   "version": "2.7.13"
  }
 },
 "nbformat": 4,
 "nbformat_minor": 0
}
